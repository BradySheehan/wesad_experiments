{
 "cells": [
  {
   "cell_type": "code",
   "execution_count": null,
   "metadata": {},
   "outputs": [],
   "source": []
  },
  {
   "cell_type": "code",
   "execution_count": 1,
   "metadata": {},
   "outputs": [],
   "source": [
    "import numpy as np\n",
    "import matplotlib.pyplot as plt\n",
    "import pandas as pd\n",
    "import importlib\n",
    "import os\n",
    "import sys\n",
    "# module = os.path.abspath('/home/learner/DLA_project/src/main')\n",
    "module = os.path.abspath(\"C:/Users\\\\18145\\\\development\\\\wesad_experiments\\\\src\\\\main\")\n",
    "if module not in sys.path:\n",
    "    sys.path.append(module)\n",
    "from DataManager import DataManager"
   ]
  },
  {
   "cell_type": "code",
   "execution_count": 2,
   "metadata": {},
   "outputs": [
    {
     "name": "stdout",
     "output_type": "stream",
     "text": [
      "Loading data from S2\n",
      "Path=C:\\WESAD\\S2\\S2.pkl\n",
      "Loading data from S3\n",
      "Path=C:\\WESAD\\S3\\S3.pkl\n",
      "Loading data from S4\n",
      "Path=C:\\WESAD\\S4\\S4.pkl\n",
      "Loading data from S5\n",
      "Path=C:\\WESAD\\S5\\S5.pkl\n",
      "Loading data from S6\n",
      "Path=C:\\WESAD\\S6\\S6.pkl\n",
      "Loading data from S7\n",
      "Path=C:\\WESAD\\S7\\S7.pkl\n",
      "Loading data from S8\n",
      "Path=C:\\WESAD\\S8\\S8.pkl\n",
      "Loading data from S9\n",
      "Path=C:\\WESAD\\S9\\S9.pkl\n",
      "Loading data from S10\n",
      "Path=C:\\WESAD\\S10\\S10.pkl\n",
      "Loading data from S11\n",
      "Path=C:\\WESAD\\S11\\S11.pkl\n"
     ]
    }
   ],
   "source": [
    "manager = DataManager()\n",
    "\n",
    "manager.load_all()\n"
   ]
  },
  {
   "cell_type": "code",
   "execution_count": 3,
   "metadata": {},
   "outputs": [
    {
     "name": "stdout",
     "output_type": "stream",
     "text": [
      "Computing features for subject: 2\n",
      "There are  800800  samples being considered.\n",
      "Computing  758800  feature values with window size               of  42000.\n",
      "There are  430500  samples being considered.\n",
      "Computing  388500  feature values with window size               of  42000.\n",
      "There are  800800  samples being considered.\n",
      "Computing  758800  feature values with window size               of  42000.\n",
      "There are  430500  samples being considered.\n",
      "Computing  388500  feature values with window size               of  42000.\n",
      "There are  800800  samples being considered.\n",
      "Computing  758800  feature values with window size               of  42000.\n",
      "There are  430500  samples being considered.\n",
      "Computing  388500  feature values with window size               of  42000.\n",
      "Computing features for subject: 3\n",
      "There are  798000  samples being considered.\n",
      "Computing  756000  feature values with window size               of  42000.\n",
      "There are  448000  samples being considered.\n",
      "Computing  406000  feature values with window size               of  42000.\n",
      "There are  798000  samples being considered.\n",
      "Computing  756000  feature values with window size               of  42000.\n",
      "There are  448000  samples being considered.\n",
      "Computing  406000  feature values with window size               of  42000.\n",
      "There are  798000  samples being considered.\n",
      "Computing  756000  feature values with window size               of  42000.\n",
      "There are  448000  samples being considered.\n",
      "Computing  406000  feature values with window size               of  42000.\n",
      "Computing features for subject: 4\n",
      "There are  810601  samples being considered.\n",
      "Computing  768601  feature values with window size               of  42000.\n",
      "There are  444500  samples being considered.\n",
      "Computing  402500  feature values with window size               of  42000.\n",
      "There are  810601  samples being considered.\n",
      "Computing  768601  feature values with window size               of  42000.\n",
      "There are  444500  samples being considered.\n",
      "Computing  402500  feature values with window size               of  42000.\n",
      "There are  810601  samples being considered.\n",
      "Computing  768601  feature values with window size               of  42000.\n",
      "There are  444500  samples being considered.\n",
      "Computing  402500  feature values with window size               of  42000.\n",
      "Computing features for subject: 5\n",
      "There are  838600  samples being considered.\n",
      "Computing  796600  feature values with window size               of  42000.\n",
      "There are  451500  samples being considered.\n",
      "Computing  409500  feature values with window size               of  42000.\n",
      "There are  838600  samples being considered.\n",
      "Computing  796600  feature values with window size               of  42000.\n",
      "There are  451500  samples being considered.\n",
      "Computing  409500  feature values with window size               of  42000.\n",
      "There are  838600  samples being considered.\n",
      "Computing  796600  feature values with window size               of  42000.\n",
      "There are  451500  samples being considered.\n",
      "Computing  409500  feature values with window size               of  42000.\n",
      "Computing features for subject: 6\n",
      "There are  826000  samples being considered.\n",
      "Computing  784000  feature values with window size               of  42000.\n",
      "There are  455000  samples being considered.\n",
      "Computing  413000  feature values with window size               of  42000.\n",
      "There are  826000  samples being considered.\n",
      "Computing  784000  feature values with window size               of  42000.\n",
      "There are  455000  samples being considered.\n",
      "Computing  413000  feature values with window size               of  42000.\n",
      "There are  826000  samples being considered.\n",
      "Computing  784000  feature values with window size               of  42000.\n",
      "There are  455000  samples being considered.\n",
      "Computing  413000  feature values with window size               of  42000.\n",
      "Computing features for subject: 7\n",
      "There are  830200  samples being considered.\n",
      "Computing  788200  feature values with window size               of  42000.\n",
      "There are  448000  samples being considered.\n",
      "Computing  406000  feature values with window size               of  42000.\n",
      "There are  830200  samples being considered.\n",
      "Computing  788200  feature values with window size               of  42000.\n",
      "There are  448000  samples being considered.\n",
      "Computing  406000  feature values with window size               of  42000.\n",
      "There are  830200  samples being considered.\n",
      "Computing  788200  feature values with window size               of  42000.\n",
      "There are  448000  samples being considered.\n",
      "Computing  406000  feature values with window size               of  42000.\n",
      "Computing features for subject: 8\n",
      "There are  818300  samples being considered.\n",
      "Computing  776300  feature values with window size               of  42000.\n",
      "There are  469000  samples being considered.\n",
      "Computing  427000  feature values with window size               of  42000.\n",
      "There are  818300  samples being considered.\n",
      "Computing  776300  feature values with window size               of  42000.\n",
      "There are  469000  samples being considered.\n",
      "Computing  427000  feature values with window size               of  42000.\n",
      "There are  818300  samples being considered.\n",
      "Computing  776300  feature values with window size               of  42000.\n",
      "There are  469000  samples being considered.\n",
      "Computing  427000  feature values with window size               of  42000.\n",
      "Computing features for subject: 9\n",
      "There are  826000  samples being considered.\n",
      "Computing  784000  feature values with window size               of  42000.\n",
      "There are  451500  samples being considered.\n",
      "Computing  409500  feature values with window size               of  42000.\n",
      "There are  826000  samples being considered.\n",
      "Computing  784000  feature values with window size               of  42000.\n",
      "There are  451500  samples being considered.\n",
      "Computing  409500  feature values with window size               of  42000.\n",
      "There are  826000  samples being considered.\n",
      "Computing  784000  feature values with window size               of  42000.\n",
      "There are  451500  samples being considered.\n",
      "Computing  409500  feature values with window size               of  42000.\n",
      "Computing features for subject: 10\n",
      "There are  826000  samples being considered.\n",
      "Computing  784000  feature values with window size               of  42000.\n",
      "There are  507500  samples being considered.\n",
      "Computing  465500  feature values with window size               of  42000.\n",
      "There are  826000  samples being considered.\n",
      "Computing  784000  feature values with window size               of  42000.\n",
      "There are  507500  samples being considered.\n",
      "Computing  465500  feature values with window size               of  42000.\n",
      "There are  826000  samples being considered.\n",
      "Computing  784000  feature values with window size               of  42000.\n",
      "There are  507500  samples being considered.\n",
      "Computing  465500  feature values with window size               of  42000.\n",
      "Computing features for subject: 11\n",
      "There are  826000  samples being considered.\n",
      "Computing  784000  feature values with window size               of  42000.\n",
      "There are  476000  samples being considered.\n",
      "Computing  434000  feature values with window size               of  42000.\n",
      "There are  826000  samples being considered.\n",
      "Computing  784000  feature values with window size               of  42000.\n",
      "There are  476000  samples being considered.\n",
      "Computing  434000  feature values with window size               of  42000.\n",
      "There are  826000  samples being considered.\n",
      "Computing  784000  feature values with window size               of  42000.\n",
      "There are  476000  samples being considered.\n",
      "Computing  434000  feature values with window size               of  42000.\n"
     ]
    }
   ],
   "source": [
    "\n",
    "manager.compute_all_features()\n"
   ]
  },
  {
   "cell_type": "code",
   "execution_count": 4,
   "metadata": {},
   "outputs": [
    {
     "name": "stdout",
     "output_type": "stream",
     "text": [
      "10\n"
     ]
    }
   ],
   "source": []
  },
  {
   "cell_type": "code",
   "execution_count": 5,
   "metadata": {},
   "outputs": [
    {
     "ename": "AttributeError",
     "evalue": "'DataManager' object has no attribute 'train_model'",
     "output_type": "error",
     "traceback": [
      "\u001b[1;31m---------------------------------------------------------------------------\u001b[0m",
      "\u001b[1;31mAttributeError\u001b[0m                            Traceback (most recent call last)",
      "\u001b[1;32m<ipython-input-5-42daabd14e8c>\u001b[0m in \u001b[0;36m<module>\u001b[1;34m\u001b[0m\n\u001b[0;32m      1\u001b[0m \u001b[1;33m\u001b[0m\u001b[0m\n\u001b[1;32m----> 2\u001b[1;33m \u001b[0mmanager\u001b[0m\u001b[1;33m.\u001b[0m\u001b[0mtrain_model\u001b[0m\u001b[1;33m(\u001b[0m\u001b[1;33m)\u001b[0m\u001b[1;33m\u001b[0m\u001b[1;33m\u001b[0m\u001b[0m\n\u001b[0m",
      "\u001b[1;31mAttributeError\u001b[0m: 'DataManager' object has no attribute 'train_model'"
     ]
    }
   ],
   "source": [
    "\n",
    "#manager.train_model()\n",
    "    "
   ]
  },
  {
   "cell_type": "code",
   "execution_count": null,
   "metadata": {},
   "outputs": [],
   "source": [
    "\n",
    "# manager.test_model()"
   ]
  }
 ],
 "metadata": {
  "kernelspec": {
   "display_name": "Python 3",
   "language": "python",
   "name": "python3"
  },
  "language_info": {
   "codemirror_mode": {
    "name": "ipython",
    "version": 3
   },
   "file_extension": ".py",
   "mimetype": "text/x-python",
   "name": "python",
   "nbconvert_exporter": "python",
   "pygments_lexer": "ipython3",
   "version": "3.7.3"
  }
 },
 "nbformat": 4,
 "nbformat_minor": 2
}
