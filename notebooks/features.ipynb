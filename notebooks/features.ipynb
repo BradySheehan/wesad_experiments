{
 "cells": [
  {
   "cell_type": "markdown",
   "metadata": {},
   "source": [
    "# Feature Exploration\n",
    "\n",
    "In this section, we are going to compute some of the possible features we \n",
    "will use for training the NN. Since the other projects I am working on\n",
    "do not have all of the data used in the WESAD set, we are only using a subset\n",
    "of the raw data to compute our features here. Additionally, we are going to use only the chest sensor measurements. This will include the following three sensor values:\n",
    "1. ACC -> Accelerometer data\n",
    "2. EDA -> Electrodermal Activity aka GSR (Galvanic Skin Response)\n",
    "3. TEMP -> Skin Temperature\n",
    "\n",
    "(Side note: Technically, my other project does have HRV but since it isn't currently being calculated, we won't use it here.)\n",
    "\n",
    "# Experiments\n",
    "\n",
    "First we will try out the Data module we created to encapsulate importing and extracting the baseline and stress data for a given subject."
   ]
  },
  {
   "cell_type": "code",
   "execution_count": 1,
   "metadata": {
    "scrolled": true
   },
   "outputs": [],
   "source": [
    "import numpy as np\n",
    "import matplotlib.pyplot as plt\n",
    "import pandas as pd\n",
    "import importlib\n",
    "import os\n",
    "import sys\n",
    "# module = os.path.abspath('/home/learner/DLA_project/src/main')\n",
    "module = os.path.abspath(\"C:/Users\\\\18145\\\\development\\\\wesad_experiments\\\\src\\\\main\")\n",
    "if module not in sys.path:\n",
    "    sys.path.append(module)\n",
    "from Data import Data"
   ]
  },
  {
   "cell_type": "code",
   "execution_count": 2,
   "metadata": {
    "collapsed": true
   },
   "outputs": [
    {
     "name": "stdout",
     "output_type": "stream",
     "text": [
      "Loading data from S3\n",
      "Path=C:\\WESAD\\S3\\S3.pkl\n",
      "{'signal': {'chest': {'ACC': array([[ 7.20000029e-01, -1.38199985e-01,  3.19339991e+00],\n",
      "       [ 5.68799973e-01, -2.28600025e-01,  3.18219995e+00],\n",
      "       [ 3.99799943e-01, -3.13199997e-01,  2.94499993e+00],\n",
      "       ...,\n",
      "       [ 9.01800036e-01,  5.85999489e-02, -7.79998302e-03],\n",
      "       [ 9.07400012e-01,  7.62000084e-02,  2.59995461e-03],\n",
      "       [ 9.68199968e-01,  1.83400035e-01,  1.79999948e-01]]), 'ECG': array([[-0.75663757],\n",
      "       [-0.70820618],\n",
      "       [-0.67396545],\n",
      "       ...,\n",
      "       [-0.24847412],\n",
      "       [-0.18598938],\n",
      "       [-0.14176941]]), 'EMG': array([[ 0.00595093],\n",
      "       [-0.0385437 ],\n",
      "       [-0.04943848],\n",
      "       ...,\n",
      "       [-0.11604309],\n",
      "       [-0.11082458],\n",
      "       [-0.06486511]]), 'EDA': array([[7.98835754],\n",
      "       [7.98225403],\n",
      "       [7.98339844],\n",
      "       ...,\n",
      "       [7.53211975],\n",
      "       [7.53059387],\n",
      "       [7.5340271 ]]), 'Temp': array([[31.499023],\n",
      "       [31.501953],\n",
      "       [31.521149],\n",
      "       ...,\n",
      "       [33.228973],\n",
      "       [33.215393],\n",
      "       [33.242523]], dtype=float32), 'Resp': array([[2.20489502],\n",
      "       [2.18048096],\n",
      "       [2.16674805],\n",
      "       ...,\n",
      "       [1.34429932],\n",
      "       [1.34124756],\n",
      "       [1.34429932]])}, 'wrist': {'ACC': array([[-128.,  127.,  127.],\n",
      "       [ -41.,   49.,   76.],\n",
      "       [  -3.,   14.,   14.],\n",
      "       ...,\n",
      "       [ -55.,  -34.,   12.],\n",
      "       [ -54.,  -34.,   11.],\n",
      "       [ -54.,  -34.,   11.]]), 'BVP': array([[16.49],\n",
      "       [15.8 ],\n",
      "       [14.58],\n",
      "       ...,\n",
      "       [ 4.98],\n",
      "       [ 4.74],\n",
      "       [ 4.44]]), 'EDA': array([[2.248749],\n",
      "       [2.710001],\n",
      "       [2.554969],\n",
      "       ...,\n",
      "       [0.301362],\n",
      "       [0.301362],\n",
      "       [0.301362]]), 'TEMP': array([[31.73],\n",
      "       [31.73],\n",
      "       [31.73],\n",
      "       ...,\n",
      "       [30.81],\n",
      "       [30.83],\n",
      "       [30.83]])}}, 'label': array([0, 0, 0, ..., 0, 0, 0]), 'subject': 'S3'}\n"
     ]
    }
   ],
   "source": [
    "data = Data()\n",
    "subject_three = data.load(3) # load subject two data in two dicts, baseline and stress"
   ]
  },
  {
   "cell_type": "code",
   "execution_count": 3,
   "metadata": {
    "collapsed": true
   },
   "outputs": [
    {
     "name": "stdout",
     "output_type": "stream",
     "text": [
      "baseline:  {'ACC': array([[ 0.78659999, -0.05980003,  0.50479996],\n",
      "       [ 0.79100001, -0.06160003,  0.50479996],\n",
      "       [ 0.79299998, -0.06260002,  0.50179994],\n",
      "       ...,\n",
      "       [ 0.85220003, -0.0194    , -0.3592    ],\n",
      "       [ 0.85099995, -0.01980001, -0.3574    ],\n",
      "       [ 0.85099995, -0.01899999, -0.35619998]]), 'EDA': array([[7.2227478 ],\n",
      "       [7.22427368],\n",
      "       [7.2227478 ],\n",
      "       ...,\n",
      "       [6.61582947],\n",
      "       [6.62078857],\n",
      "       [6.61735535]]), 'Temp': array([[32.989807],\n",
      "       [33.030365],\n",
      "       [33.04239 ],\n",
      "       ...,\n",
      "       [31.658417],\n",
      "       [31.667297],\n",
      "       [31.662842]], dtype=float32)} \n",
      "stress:  {'ACC': array([[ 0.8872    ,  0.06700003,  0.074     ],\n",
      "       [ 0.88820004,  0.06900001,  0.06579995],\n",
      "       [ 0.89139998,  0.06819999,  0.06159997],\n",
      "       ...,\n",
      "       [ 0.91659999,  0.02499998, -0.0248    ],\n",
      "       [ 0.91540003,  0.02520001, -0.01980001],\n",
      "       [ 0.91499996,  0.02359998, -0.01660001]]), 'EDA': array([[6.88705444],\n",
      "       [6.88667297],\n",
      "       [6.88476562],\n",
      "       ...,\n",
      "       [7.37342834],\n",
      "       [7.37876892],\n",
      "       [7.37419128]]), 'Temp': array([[32.025574],\n",
      "       [32.016663],\n",
      "       [32.003357],\n",
      "       ...,\n",
      "       [31.924744],\n",
      "       [31.93512 ],\n",
      "       [31.942505]], dtype=float32)}\n"
     ]
    }
   ],
   "source": [
    "# Let us take a quick look and make sure the Data module is doing what we want.\n",
    "print('baseline: ', subject_three[0], '\\nstress: ', subject_three[1])"
   ]
  },
  {
   "cell_type": "markdown",
   "metadata": {},
   "source": [
    "### Comments\n",
    "The output above looks good. We will use a sliding window for feature calculations. I think that the window for ACC will certainly need to be different than the window for EDA/Temp. \n",
    "\n",
    "For the chest device, they had a sampling rate of 700 and a resolution of 16. "
   ]
  },
  {
   "cell_type": "markdown",
   "metadata": {},
   "source": [
    "### Features\n",
    "\n",
    "The eatures of interest for the ACC data are as follows.\n",
    "\n",
    "1. We are interested in computing mean and STD for each axis; I believe that some of the papers, in addition to the WESAD paper, recommend summing those values over all the axes - not sure if we want to do that or not.\n",
    "2. Peak frequency for each axis\n",
    "3. RMS = sqrt(x^2 + y^2 + z^2) aka body acceleration component\n",
    "\n",
    "Some features of interest for the temperature sensor are:\n",
    "1. Min and max value\n",
    "2. Dynamic Range\n",
    "3. Slope\n",
    "4. Mean and STD \n",
    "\n",
    "Some features of interest for the EDA data are:\n",
    "1. Range\n",
    "2. Min and max value\n",
    "3. Slope\n",
    "4. Mean and STD\n"
   ]
  },
  {
   "cell_type": "code",
   "execution_count": null,
   "metadata": {},
   "outputs": [],
   "source": []
  }
 ],
 "metadata": {
  "kernelspec": {
   "display_name": "Python 3",
   "language": "python",
   "name": "python3"
  },
  "language_info": {
   "codemirror_mode": {
    "name": "ipython",
    "version": 3
   },
   "file_extension": ".py",
   "mimetype": "text/x-python",
   "name": "python",
   "nbconvert_exporter": "python",
   "pygments_lexer": "ipython3",
   "version": "3.7.3"
  }
 },
 "nbformat": 4,
 "nbformat_minor": 2
}
