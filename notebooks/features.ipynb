{
 "cells": [
  {
   "cell_type": "code",
   "execution_count": 1,
   "metadata": {},
   "outputs": [],
   "source": [
    "import numpy as np\n",
    "import matplotlib.pyplot as plt\n",
    "import pandas as pd\n",
    "import importlib\n",
    "import os\n",
    "import sys\n",
    "module = os.path.abspath('/home/learner/DLA_project/src/main')\n",
    "if module not in sys.path:\n",
    "    sys.path.append(module)\n",
    "from Data import Data"
   ]
  },
  {
   "cell_type": "code",
   "execution_count": 2,
   "metadata": {},
   "outputs": [
    {
     "name": "stdout",
     "output_type": "stream",
     "text": [
      "Path=/media/learner/6663-3462/WESAD/S2/S2.pkl\n"
     ]
    }
   ],
   "source": [
    "data = Data()\n",
    "subject_two = data.load(2) # load subject two data in two dicts, baseline and stress"
   ]
  },
  {
   "cell_type": "code",
   "execution_count": 4,
   "metadata": {},
   "outputs": [
    {
     "name": "stdout",
     "output_type": "stream",
     "text": [
      "baseline:  {'ACC': array([[ 0.89139998, -0.11019999, -0.25760001],\n",
      "       [ 0.89260006, -0.10860002, -0.25440001],\n",
      "       [ 0.89300001, -0.10939997, -0.25800002],\n",
      "       ...,\n",
      "       [ 0.71459997,  0.06420004, -0.07260001],\n",
      "       [ 0.72440004,  0.06060004, -0.08179998],\n",
      "       [ 0.72819996,  0.05060005, -0.0948    ]]), 'ECG': array([[0.03094482],\n",
      "       [0.03364563],\n",
      "       [0.03300476],\n",
      "       ...,\n",
      "       [0.35952759],\n",
      "       [0.38768005],\n",
      "       [0.41500854]]), 'EDA': array([[5.71098328],\n",
      "       [5.71937561],\n",
      "       [5.70640564],\n",
      "       ...,\n",
      "       [1.20010376],\n",
      "       [1.19094849],\n",
      "       [1.19895935]]), 'EMG': array([[-0.00370789],\n",
      "       [-0.0141449 ],\n",
      "       [ 0.01020813],\n",
      "       ...,\n",
      "       [-0.0058136 ],\n",
      "       [-0.00160217],\n",
      "       [-0.02824402]]), 'Resp': array([[ 1.19171143],\n",
      "       [ 1.13983154],\n",
      "       [ 1.14135742],\n",
      "       ...,\n",
      "       [-1.07879639],\n",
      "       [-1.02539062],\n",
      "       [-0.99639893]]), 'Temp': array([[29.083618],\n",
      "       [29.122437],\n",
      "       [29.115234],\n",
      "       ...,\n",
      "       [29.715027],\n",
      "       [29.717896],\n",
      "       [29.717896]], dtype=float32)} \n",
      "stress:  {'ACC': array([[ 0.87759995, -0.10299999, -0.29680002],\n",
      "       [ 0.87580001, -0.10180002, -0.29519999],\n",
      "       [ 0.87600005, -0.10299999, -0.29180002],\n",
      "       ...,\n",
      "       [ 0.88059998, -0.13340002, -0.2978    ],\n",
      "       [ 0.87779999, -0.13139999, -0.29640001],\n",
      "       [ 0.87660003, -0.13099998, -0.29619998]]), 'ECG': array([[-0.01167297],\n",
      "       [-0.0015564 ],\n",
      "       [ 0.02238464],\n",
      "       ...,\n",
      "       [ 0.00361633],\n",
      "       [ 0.00352478],\n",
      "       [ 0.00032043]]), 'EDA': array([[1.27830505],\n",
      "       [1.25274658],\n",
      "       [1.24549866],\n",
      "       ...,\n",
      "       [3.07807922],\n",
      "       [3.05862427],\n",
      "       [3.08380127]]), 'EMG': array([[ 0.0050354 ],\n",
      "       [ 0.00059509],\n",
      "       [-0.00521851],\n",
      "       ...,\n",
      "       [-0.00901794],\n",
      "       [ 0.00494385],\n",
      "       [ 0.00389099]]), 'Resp': array([[-1.222229  ],\n",
      "       [-1.20239258],\n",
      "       [-1.222229  ],\n",
      "       ...,\n",
      "       [-1.09710693],\n",
      "       [-1.10321045],\n",
      "       [-1.08795166]]), 'Temp': array([[31.21051 ],\n",
      "       [31.22229 ],\n",
      "       [31.223724],\n",
      "       ...,\n",
      "       [31.098877],\n",
      "       [31.101807],\n",
      "       [31.098877]], dtype=float32)}\n"
     ]
    }
   ],
   "source": [
    "print('baseline: ', subject_two[0], '\\nstress: ', subject_two[1])"
   ]
  },
  {
   "cell_type": "code",
   "execution_count": 7,
   "metadata": {},
   "outputs": [
    {
     "name": "stdout",
     "output_type": "stream",
     "text": [
      "[5.71098328]\n"
     ]
    }
   ],
   "source": [
    "import statistics as stats\n",
    "stats.mean(subject_two[0]['EDA'][0])"
   ]
  }
 ],
 "metadata": {
  "kernelspec": {
   "display_name": "Python 3",
   "language": "python",
   "name": "python3"
  },
  "language_info": {
   "codemirror_mode": {
    "name": "ipython",
    "version": 3
   },
   "file_extension": ".py",
   "mimetype": "text/x-python",
   "name": "python",
   "nbconvert_exporter": "python",
   "pygments_lexer": "ipython3",
   "version": "3.6.7"
  }
 },
 "nbformat": 4,
 "nbformat_minor": 2
}
